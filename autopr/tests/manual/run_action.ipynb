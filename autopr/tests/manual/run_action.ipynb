{
 "cells": [
  {
   "cell_type": "code",
   "execution_count": 1,
   "id": "initial_id",
   "metadata": {
    "collapsed": true,
    "ExecuteTime": {
     "end_time": "2023-08-15T23:44:13.310903Z",
     "start_time": "2023-08-15T23:44:11.287955Z"
    }
   },
   "outputs": [
    {
     "name": "stderr",
     "output_type": "stream",
     "text": [
      "None of PyTorch, TensorFlow >= 2.0, or Flax have been found. Models won't be available and only tokenizers, configuration and file/data utilities can be used.\n"
     ]
    },
    {
     "name": "stdout",
     "output_type": "stream",
     "text": [
      "Start section: 🚀 Running bash\n",
      "Inputs: {\n",
      "  \"command\": \"echo 'Hello World!'\"\n",
      "}\n",
      "Outputs: {\n",
      "  \"stdout\": \"Hello World!\\n\",\n",
      "  \"stderr\": \"\"\n",
      "}\n",
      "End section\n"
     ]
    },
    {
     "data": {
      "text/plain": "{'stdout': 'Hello World!\\n', 'stderr': ''}"
     },
     "execution_count": 1,
     "metadata": {},
     "output_type": "execute_result"
    }
   ],
   "source": [
    "from autopr.models.executable import ExecutableId, ContextDict\n",
    "from autopr.tests.utils import run_action_manually\n",
    "\n",
    "# ---\n",
    "\n",
    "# The repo you'd like to run the workflow in (see autopr/tests/repo_resources)\n",
    "repo_resource = \"example_repo_1\"\n",
    "\n",
    "# The action id you'd like to run\n",
    "action_id = \"bash\"\n",
    "\n",
    "# The inputs you'd like to pass to the action\n",
    "inputs = {\n",
    "    \"command\": \"echo 'Hello World!'\"\n",
    "}\n",
    "\n",
    "# ---\n",
    "\n",
    "\n",
    "outputs = await run_action_manually(\n",
    "    action=ExecutableId(action_id),\n",
    "    inputs=ContextDict(inputs),\n",
    "    repo_resource=repo_resource\n",
    ")\n",
    "outputs"
   ]
  }
 ],
 "metadata": {
  "kernelspec": {
   "display_name": "Python 3",
   "language": "python",
   "name": "python3"
  },
  "language_info": {
   "codemirror_mode": {
    "name": "ipython",
    "version": 2
   },
   "file_extension": ".py",
   "mimetype": "text/x-python",
   "name": "python",
   "nbconvert_exporter": "python",
   "pygments_lexer": "ipython2",
   "version": "2.7.6"
  }
 },
 "nbformat": 4,
 "nbformat_minor": 5
}
