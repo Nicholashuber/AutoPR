{
 "cells": [
  {
   "cell_type": "code",
   "execution_count": 1,
   "metadata": {
    "ExecuteTime": {
     "end_time": "2023-08-15T23:44:37.406638Z",
     "start_time": "2023-08-15T23:44:35.026146Z"
    }
   },
   "outputs": [
    {
     "name": "stderr",
     "output_type": "stream",
     "text": [
      "None of PyTorch, TensorFlow >= 2.0, or Flax have been found. Models won't be available and only tokenizers, configuration and file/data utilities can be used.\n"
     ]
    },
    {
     "name": "stdout",
     "output_type": "stream",
     "text": [
      "Start section: 🚀 Running bash\n",
      "Inputs: {\n",
      "  \"command\": \"echo 'Hello, world!'\"\n",
      "}\n",
      "Outputs: {\n",
      "  \"msg\": \"Hello, world!\\n\"\n",
      "}\n",
      "End section\n"
     ]
    },
    {
     "data": {
      "text/plain": [
       "{'issue': Issue(messages=[Message(body='Test message 1', author='Tester')], number=1, title='Test Issue', author='Tester'),\n",
       " 'msg': 'Hello, world!\\n'}"
      ]
     },
     "execution_count": 1,
     "metadata": {},
     "output_type": "execute_result"
    }
   ],
   "source": [
    "from autopr.models.events import LabelEvent\n",
    "from autopr.models.artifacts import Issue, Message\n",
    "from autopr.tests.utils import create_ephemeral_main_service\n",
    "\n",
    "# ---\n",
    "\n",
    "\n",
    "# The filename of the triggers file you'd like to use (see tests/triggers)\n",
    "triggers_filename = \"bash.yaml\"\n",
    "\n",
    "# The filename of the workflows file you'd like to use (see tests/workflows)\n",
    "workflows_filename = \"bash.yaml\"\n",
    "\n",
    "# The repo you'd like to run the workflow in (see tests/repo_resources)\n",
    "repo_resource = \"example_repo_1\"\n",
    "\n",
    "# The event you'd like to run the workflow on\n",
    "event = LabelEvent(\n",
    "    pull_request=None,\n",
    "    issue=Issue(\n",
    "        number=1,\n",
    "        title=\"Test Issue\",\n",
    "        author=\"Tester\",\n",
    "        messages=[\n",
    "            Message(\n",
    "                body=\"Test message 1\",\n",
    "                author=\"Tester\",\n",
    "            ),\n",
    "        ]\n",
    "    ),\n",
    "    label=\"autopr\",\n",
    ")\n",
    "\n",
    "\n",
    "# ---\n",
    "\n",
    "\n",
    "# Initialize\n",
    "main = create_ephemeral_main_service(\n",
    "    triggers_filename=triggers_filename,\n",
    "    workflows_filename=workflows_filename,\n",
    "    repo_resource=repo_resource,\n",
    "    event=event,\n",
    ")\n",
    "\n",
    "# Get triggers\n",
    "triggers = main.workflow_service._get_trigger_coros_for_event(event)\n",
    "\n",
    "if triggers:\n",
    "    # Run the first trigger you find\n",
    "    out = await triggers[0]\n",
    "else:\n",
    "    print(\"No trigger found for event\")\n",
    "    out = None\n",
    "\n",
    "out"
   ]
  }
 ],
 "metadata": {
  "kernelspec": {
   "display_name": "Python 3 (ipykernel)",
   "language": "python",
   "name": "python3"
  },
  "language_info": {
   "codemirror_mode": {
    "name": "ipython",
    "version": 3
   },
   "file_extension": ".py",
   "mimetype": "text/x-python",
   "name": "python",
   "nbconvert_exporter": "python",
   "pygments_lexer": "ipython3",
   "version": "3.11.3"
  }
 },
 "nbformat": 4,
 "nbformat_minor": 1
}
